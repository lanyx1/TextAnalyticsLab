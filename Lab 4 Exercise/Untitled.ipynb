{
 "cells": [
  {
   "cell_type": "code",
   "execution_count": 1,
   "id": "4627d3b6-7f7f-4be8-b719-f8e0c1a22e7f",
   "metadata": {},
   "outputs": [
    {
     "name": "stderr",
     "output_type": "stream",
     "text": [
      "[nltk_data] Downloading package stopwords to\n",
      "[nltk_data]     C:\\Users\\Username\\AppData\\Roaming\\nltk_data...\n",
      "[nltk_data]   Package stopwords is already up-to-date!\n",
      "[nltk_data] Downloading package wordnet to\n",
      "[nltk_data]     C:\\Users\\Username\\AppData\\Roaming\\nltk_data...\n",
      "[nltk_data]   Package wordnet is already up-to-date!\n",
      "[nltk_data] Downloading package omw-1.4 to\n",
      "[nltk_data]     C:\\Users\\Username\\AppData\\Roaming\\nltk_data...\n",
      "[nltk_data]   Package omw-1.4 is already up-to-date!\n",
      "[nltk_data] Downloading package averaged_perceptron_tagger to\n",
      "[nltk_data]     C:\\Users\\Username\\AppData\\Roaming\\nltk_data...\n",
      "[nltk_data]   Package averaged_perceptron_tagger is already up-to-\n",
      "[nltk_data]       date!\n",
      "[nltk_data] Downloading package punkt to\n",
      "[nltk_data]     C:\\Users\\Username\\AppData\\Roaming\\nltk_data...\n",
      "[nltk_data]   Package punkt is already up-to-date!\n"
     ]
    },
    {
     "ename": "ModuleNotFoundError",
     "evalue": "No module named 'contractions'",
     "output_type": "error",
     "traceback": [
      "\u001b[1;31m---------------------------------------------------------------------------\u001b[0m",
      "\u001b[1;31mModuleNotFoundError\u001b[0m                       Traceback (most recent call last)",
      "Cell \u001b[1;32mIn[1], line 19\u001b[0m\n\u001b[0;32m     17\u001b[0m \u001b[38;5;28;01mfrom\u001b[39;00m \u001b[38;5;21;01mnltk\u001b[39;00m \u001b[38;5;28;01mimport\u001b[39;00m pos_tag\n\u001b[0;32m     18\u001b[0m \u001b[38;5;28;01mfrom\u001b[39;00m \u001b[38;5;21;01mautocorrect\u001b[39;00m \u001b[38;5;28;01mimport\u001b[39;00m Speller\n\u001b[1;32m---> 19\u001b[0m \u001b[38;5;28;01mfrom\u001b[39;00m \u001b[38;5;21;01mcontractions\u001b[39;00m \u001b[38;5;28;01mimport\u001b[39;00m fix\n\u001b[0;32m     21\u001b[0m \u001b[38;5;66;03m# Load the dataset\u001b[39;00m\n\u001b[0;32m     22\u001b[0m df \u001b[38;5;241m=\u001b[39m pd\u001b[38;5;241m.\u001b[39mread_csv(\u001b[38;5;124m\"\u001b[39m\u001b[38;5;124mUNITENReview.csv\u001b[39m\u001b[38;5;124m\"\u001b[39m)\n",
      "\u001b[1;31mModuleNotFoundError\u001b[0m: No module named 'contractions'"
     ]
    }
   ],
   "source": [
    "import pandas as pd\n",
    "import numpy as np\n",
    "import string\n",
    "import re\n",
    "import nltk\n",
    "\n",
    "# Download necessary NLTK resources\n",
    "nltk.download('stopwords')\n",
    "nltk.download('wordnet')\n",
    "nltk.download('omw-1.4')\n",
    "nltk.download('averaged_perceptron_tagger')\n",
    "nltk.download('punkt')\n",
    "\n",
    "from nltk.corpus import stopwords, wordnet\n",
    "from nltk.tokenize import word_tokenize\n",
    "from nltk.stem import WordNetLemmatizer\n",
    "from nltk import pos_tag\n",
    "from autocorrect import Speller\n",
    "from contractions import fix\n",
    "\n",
    "# Load the dataset\n",
    "df = pd.read_csv(\"UNITENReview.csv\")\n",
    "\n",
    "# Step 1: Check for missing values\n",
    "df[\"Review\"].dropna(inplace=True)\n",
    "\n",
    "# Step 2: Convert to lowercase\n",
    "df[\"Review\"] = df[\"Review\"].str.lower()\n",
    "\n",
    "# Step 3: Remove punctuation and special characters\n",
    "df[\"Review\"] = df[\"Review\"].apply(lambda text: text.translate(str.maketrans(\"\", \"\", string.punctuation)))\n",
    "\n",
    "# Step 4: Remove numbers\n",
    "df[\"Review\"] = df[\"Review\"].apply(lambda text: re.sub(r'\\d+', '', text))\n",
    "\n",
    "# Step 5: Expand contractions (e.g., \"isn't\" → \"is not\")\n",
    "df[\"Review\"] = df[\"Review\"].apply(lambda text: fix(text))\n",
    "\n",
    "# Step 6: Remove stopwords\n",
    "stop_words = set(stopwords.words(\"english\"))\n",
    "df[\"Review\"] = df[\"Review\"].apply(lambda text: \" \".join([word for word in word_tokenize(text) if word not in stop_words]))\n",
    "\n",
    "# Step 7: Correct spelling mistakes\n",
    "spell = Speller(lang='en')\n",
    "df[\"Review\"] = df[\"Review\"].apply(lambda text: \" \".join([spell(word) for word in text.split()]))\n",
    "\n",
    "# Step 8: Lemmatization\n",
    "lemmatizer = WordNetLemmatizer()\n",
    "\n",
    "# Function to get wordnet POS tag\n",
    "def get_wordnet_pos(tag):\n",
    "    if tag.startswith('J'):\n",
    "        return wordnet.ADJ\n",
    "    elif tag.startswith('V'):\n",
    "        return wordnet.VERB\n",
    "    elif tag.startswith('N'):\n",
    "        return wordnet.NOUN\n",
    "    elif tag.startswith('R'):\n",
    "        return wordnet.ADV\n",
    "    else:\n",
    "        return wordnet.NOUN\n",
    "\n",
    "# Lemmatization function\n",
    "def lemmatize_text(text):\n",
    "    words = word_tokenize(text)\n",
    "    pos_tags = pos_tag(words)\n",
    "    lemmatized_words = [lemmatizer.lemmatize(word, get_wordnet_pos(tag)) for word, tag in pos_tags]\n",
    "    return \" \".join(lemmatized_words)\n",
    "\n",
    "df[\"Review\"] = df[\"Review\"].apply(lemmatize_text)\n",
    "\n",
    "# Save the cleaned data to a new CSV file\n",
    "df.to_csv(\"UNITENReview_Cleaned.csv\", index=False)\n",
    "\n",
    "print(\"Text pre-processing completed. Cleaned file saved as 'UNITENReview_Cleaned.csv'.\")\n"
   ]
  },
  {
   "cell_type": "code",
   "execution_count": 2,
   "id": "6feb3d50-9e93-4129-8a56-6af82dfd3315",
   "metadata": {},
   "outputs": [
    {
     "name": "stdout",
     "output_type": "stream",
     "text": [
      "Collecting contractions\n",
      "  Downloading contractions-0.1.73-py2.py3-none-any.whl.metadata (1.2 kB)\n",
      "Collecting textsearch>=0.0.21 (from contractions)\n",
      "  Downloading textsearch-0.0.24-py2.py3-none-any.whl.metadata (1.2 kB)\n",
      "Collecting anyascii (from textsearch>=0.0.21->contractions)\n",
      "  Downloading anyascii-0.3.2-py3-none-any.whl.metadata (1.5 kB)\n",
      "Collecting pyahocorasick (from textsearch>=0.0.21->contractions)\n",
      "  Downloading pyahocorasick-2.1.0-cp312-cp312-win_amd64.whl.metadata (13 kB)\n",
      "Downloading contractions-0.1.73-py2.py3-none-any.whl (8.7 kB)\n",
      "Downloading textsearch-0.0.24-py2.py3-none-any.whl (7.6 kB)\n",
      "Downloading anyascii-0.3.2-py3-none-any.whl (289 kB)\n",
      "Downloading pyahocorasick-2.1.0-cp312-cp312-win_amd64.whl (39 kB)\n",
      "Installing collected packages: pyahocorasick, anyascii, textsearch, contractions\n",
      "Successfully installed anyascii-0.3.2 contractions-0.1.73 pyahocorasick-2.1.0 textsearch-0.0.24\n",
      "Note: you may need to restart the kernel to use updated packages.\n"
     ]
    }
   ],
   "source": [
    "pip install contractions\n"
   ]
  },
  {
   "cell_type": "code",
   "execution_count": 3,
   "id": "ea2632fb-29b5-4920-b06e-d6721a41f87a",
   "metadata": {},
   "outputs": [
    {
     "name": "stdout",
     "output_type": "stream",
     "text": [
      "Requirement already satisfied: contractions in c:\\users\\username\\anaconda3\\lib\\site-packages (0.1.73)\n",
      "Requirement already satisfied: textsearch>=0.0.21 in c:\\users\\username\\anaconda3\\lib\\site-packages (from contractions) (0.0.24)\n",
      "Requirement already satisfied: anyascii in c:\\users\\username\\anaconda3\\lib\\site-packages (from textsearch>=0.0.21->contractions) (0.3.2)\n",
      "Requirement already satisfied: pyahocorasick in c:\\users\\username\\anaconda3\\lib\\site-packages (from textsearch>=0.0.21->contractions) (2.1.0)\n"
     ]
    }
   ],
   "source": [
    "!pip install contractions\n"
   ]
  },
  {
   "cell_type": "code",
   "execution_count": 4,
   "id": "0dde9019-1021-4d5f-a35d-4378aa2c244c",
   "metadata": {},
   "outputs": [
    {
     "name": "stderr",
     "output_type": "stream",
     "text": [
      "[nltk_data] Downloading package stopwords to\n",
      "[nltk_data]     C:\\Users\\Username\\AppData\\Roaming\\nltk_data...\n",
      "[nltk_data]   Package stopwords is already up-to-date!\n",
      "[nltk_data] Downloading package wordnet to\n",
      "[nltk_data]     C:\\Users\\Username\\AppData\\Roaming\\nltk_data...\n",
      "[nltk_data]   Package wordnet is already up-to-date!\n",
      "[nltk_data] Downloading package omw-1.4 to\n",
      "[nltk_data]     C:\\Users\\Username\\AppData\\Roaming\\nltk_data...\n",
      "[nltk_data]   Package omw-1.4 is already up-to-date!\n",
      "[nltk_data] Downloading package averaged_perceptron_tagger to\n",
      "[nltk_data]     C:\\Users\\Username\\AppData\\Roaming\\nltk_data...\n",
      "[nltk_data]   Package averaged_perceptron_tagger is already up-to-\n",
      "[nltk_data]       date!\n",
      "[nltk_data] Downloading package punkt to\n",
      "[nltk_data]     C:\\Users\\Username\\AppData\\Roaming\\nltk_data...\n",
      "[nltk_data]   Package punkt is already up-to-date!\n"
     ]
    },
    {
     "name": "stdout",
     "output_type": "stream",
     "text": [
      "Text pre-processing completed. Cleaned file saved as 'UNITENReview_Cleaned.csv'.\n"
     ]
    }
   ],
   "source": [
    "import pandas as pd\n",
    "import numpy as np\n",
    "import string\n",
    "import re\n",
    "import nltk\n",
    "\n",
    "# Download necessary NLTK resources\n",
    "nltk.download('stopwords')\n",
    "nltk.download('wordnet')\n",
    "nltk.download('omw-1.4')\n",
    "nltk.download('averaged_perceptron_tagger')\n",
    "nltk.download('punkt')\n",
    "\n",
    "from nltk.corpus import stopwords, wordnet\n",
    "from nltk.tokenize import word_tokenize\n",
    "from nltk.stem import WordNetLemmatizer\n",
    "from nltk import pos_tag\n",
    "from autocorrect import Speller\n",
    "from contractions import fix\n",
    "\n",
    "# Load the dataset\n",
    "df = pd.read_csv(\"UNITENReview.csv\")\n",
    "\n",
    "# Step 1: Check for missing values\n",
    "df[\"Review\"].dropna(inplace=True)\n",
    "\n",
    "# Step 2: Convert to lowercase\n",
    "df[\"Review\"] = df[\"Review\"].str.lower()\n",
    "\n",
    "# Step 3: Remove punctuation and special characters\n",
    "df[\"Review\"] = df[\"Review\"].apply(lambda text: text.translate(str.maketrans(\"\", \"\", string.punctuation)))\n",
    "\n",
    "# Step 4: Remove numbers\n",
    "df[\"Review\"] = df[\"Review\"].apply(lambda text: re.sub(r'\\d+', '', text))\n",
    "\n",
    "# Step 5: Expand contractions (e.g., \"isn't\" → \"is not\")\n",
    "df[\"Review\"] = df[\"Review\"].apply(lambda text: fix(text))\n",
    "\n",
    "# Step 6: Remove stopwords\n",
    "stop_words = set(stopwords.words(\"english\"))\n",
    "df[\"Review\"] = df[\"Review\"].apply(lambda text: \" \".join([word for word in word_tokenize(text) if word not in stop_words]))\n",
    "\n",
    "# Step 7: Correct spelling mistakes\n",
    "spell = Speller(lang='en')\n",
    "df[\"Review\"] = df[\"Review\"].apply(lambda text: \" \".join([spell(word) for word in text.split()]))\n",
    "\n",
    "# Step 8: Lemmatization\n",
    "lemmatizer = WordNetLemmatizer()\n",
    "\n",
    "# Function to get wordnet POS tag\n",
    "def get_wordnet_pos(tag):\n",
    "    if tag.startswith('J'):\n",
    "        return wordnet.ADJ\n",
    "    elif tag.startswith('V'):\n",
    "        return wordnet.VERB\n",
    "    elif tag.startswith('N'):\n",
    "        return wordnet.NOUN\n",
    "    elif tag.startswith('R'):\n",
    "        return wordnet.ADV\n",
    "    else:\n",
    "        return wordnet.NOUN\n",
    "\n",
    "# Lemmatization function\n",
    "def lemmatize_text(text):\n",
    "    words = word_tokenize(text)\n",
    "    pos_tags = pos_tag(words)\n",
    "    lemmatized_words = [lemmatizer.lemmatize(word, get_wordnet_pos(tag)) for word, tag in pos_tags]\n",
    "    return \" \".join(lemmatized_words)\n",
    "\n",
    "df[\"Review\"] = df[\"Review\"].apply(lemmatize_text)\n",
    "\n",
    "# Save the cleaned data to a new CSV file\n",
    "df.to_csv(\"UNITENReview_Cleaned.csv\", index=False)\n",
    "\n",
    "print(\"Text pre-processing completed. Cleaned file saved as 'UNITENReview_Cleaned.csv'.\")\n"
   ]
  },
  {
   "cell_type": "code",
   "execution_count": null,
   "id": "1ee6dbc5-45ce-48d0-a106-e5b8e8186185",
   "metadata": {},
   "outputs": [],
   "source": []
  }
 ],
 "metadata": {
  "kernelspec": {
   "display_name": "Python [conda env:base] *",
   "language": "python",
   "name": "conda-base-py"
  },
  "language_info": {
   "codemirror_mode": {
    "name": "ipython",
    "version": 3
   },
   "file_extension": ".py",
   "mimetype": "text/x-python",
   "name": "python",
   "nbconvert_exporter": "python",
   "pygments_lexer": "ipython3",
   "version": "3.12.7"
  }
 },
 "nbformat": 4,
 "nbformat_minor": 5
}
