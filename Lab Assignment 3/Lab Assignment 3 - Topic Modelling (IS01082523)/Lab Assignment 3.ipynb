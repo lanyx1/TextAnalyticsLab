{
 "cells": [
  {
   "cell_type": "markdown",
   "id": "b8538185-5285-4f32-b009-1140c5d040b5",
   "metadata": {},
   "source": [
    "# Name: Reshma Ganesan, Najah Zdafirah \n",
    "# ID: IS01082523, IS01082508\n",
    "# Lab Assignment 3 – Topic Modeling (CISB5123)"
   ]
  },
  {
   "cell_type": "code",
   "execution_count": 67,
   "id": "8ae269b6-d91a-481d-bb58-cef06b7fc877",
   "metadata": {},
   "outputs": [],
   "source": [
    "# Required Libraries\n",
    "import pandas as pd\n",
    "import nltk\n",
    "from nltk.corpus import stopwords\n",
    "from nltk.tokenize import word_tokenize\n",
    "from nltk.stem import WordNetLemmatizer, PorterStemmer\n",
    "from gensim import corpora\n",
    "from gensim.models import LdaModel, CoherenceModel"
   ]
  },
  {
   "cell_type": "code",
   "execution_count": 68,
   "id": "2aa69c94-2f4f-4111-b6e1-91e9a60499fb",
   "metadata": {},
   "outputs": [
    {
     "name": "stderr",
     "output_type": "stream",
     "text": [
      "[nltk_data] Downloading package stopwords to\n",
      "[nltk_data]     C:\\Users\\Username\\AppData\\Roaming\\nltk_data...\n",
      "[nltk_data]   Package stopwords is already up-to-date!\n",
      "[nltk_data] Downloading package punkt to\n",
      "[nltk_data]     C:\\Users\\Username\\AppData\\Roaming\\nltk_data...\n",
      "[nltk_data]   Package punkt is already up-to-date!\n",
      "[nltk_data] Downloading package wordnet to\n",
      "[nltk_data]     C:\\Users\\Username\\AppData\\Roaming\\nltk_data...\n",
      "[nltk_data]   Package wordnet is already up-to-date!\n"
     ]
    },
    {
     "data": {
      "text/plain": [
       "True"
      ]
     },
     "execution_count": 68,
     "metadata": {},
     "output_type": "execute_result"
    }
   ],
   "source": [
    "# Download NLTK Resources\n",
    "nltk.download('stopwords')\n",
    "nltk.download('punkt')\n",
    "nltk.download('wordnet')"
   ]
  },
  {
   "cell_type": "code",
   "execution_count": 69,
   "id": "6e8be01e-6060-421f-a6e2-b96350c3413e",
   "metadata": {},
   "outputs": [],
   "source": [
    "# Step 1: Load Dataset\n",
    "df = pd.read_csv(\"news_dataset.csv\")\n",
    "df = df[['text']].dropna()"
   ]
  },
  {
   "cell_type": "code",
   "execution_count": 70,
   "id": "59f7ba8e-8f9f-4d45-a238-575da1db4f8f",
   "metadata": {},
   "outputs": [],
   "source": [
    "# Step 2: Text Preprocessing\n",
    "stop_words = set(stopwords.words('english'))\n",
    "lemmatizer = WordNetLemmatizer()\n",
    "stemmer = PorterStemmer()\n",
    "import re\n",
    "\n",
    "def preprocess_text(text):\n",
    "    tokens = word_tokenize(text.lower())                     # Lowercase + tokenize\n",
    "    tokens = [t for t in tokens if t.isalpha()]\n",
    "    #tokens = [t for t in tokens if len(t) > 2 and not t.isnumeric()]              # Keep only words and numbers\n",
    "    tokens = [t for t in tokens if t not in stop_words]      # Remove stopwords\n",
    "    tokens = [t for t in tokens if len(t) > 2]\n",
    "    tokens = [lemmatizer.lemmatize(t) for t in tokens]       # Lemmatize\n",
    "    tokens = [stemmer.stem(t) for t in tokens]               # Stem\n",
    "    return tokens\n",
    "\n",
    "processed_docs = df['text'].apply(preprocess_text)"
   ]
  },
  {
   "cell_type": "code",
   "execution_count": 71,
   "id": "4d6bf4f1-37fd-4aa6-bad2-cd4496612db3",
   "metadata": {},
   "outputs": [],
   "source": [
    "# Step 3: Create Dictionary and Corpus\n",
    "dictionary = corpora.Dictionary(processed_docs)\n",
    "dictionary.filter_extremes(no_below=10, no_above=0.5)\n",
    "corpus = [dictionary.doc2bow(doc) for doc in processed_docs]"
   ]
  },
  {
   "cell_type": "code",
   "execution_count": 72,
   "id": "72ee709e-5ce3-41a6-a7a1-f00113270263",
   "metadata": {},
   "outputs": [],
   "source": [
    "# Step 4: Train LDA Model with 4 Topics\n",
    "lda_model = LdaModel(corpus=corpus, id2word=dictionary, num_topics=4, passes=10, random_state=42)"
   ]
  },
  {
   "cell_type": "code",
   "execution_count": 73,
   "id": "e24a68cb-44b0-4f1f-bfca-7ba3cc6dee35",
   "metadata": {},
   "outputs": [
    {
     "name": "stdout",
     "output_type": "stream",
     "text": [
      "\n",
      "Coherence Score: 0.4987\n",
      "\n"
     ]
    }
   ],
   "source": [
    "# Step 5: Coherence Score\n",
    "coherence_model = CoherenceModel(model=lda_model, texts=processed_docs, dictionary=dictionary, coherence='c_v')\n",
    "coherence_score = coherence_model.get_coherence()\n",
    "print(f\"\\nCoherence Score: {coherence_score:.4f}\\n\")"
   ]
  },
  {
   "cell_type": "code",
   "execution_count": 74,
   "id": "9cb9414b-e33f-403e-9299-e05059f9040b",
   "metadata": {},
   "outputs": [
    {
     "name": "stdout",
     "output_type": "stream",
     "text": [
      "Top Terms for Each Topic:\n",
      "\n",
      "Topic 0:\n",
      "  - use (weight: 0.017)\n",
      "  - key (weight: 0.015)\n",
      "  - file (weight: 0.010)\n",
      "  - encrypt (weight: 0.010)\n",
      "  - system (weight: 0.008)\n",
      "  - program (weight: 0.008)\n",
      "  - chip (weight: 0.007)\n",
      "  - inform (weight: 0.007)\n",
      "  - secur (weight: 0.006)\n",
      "  - avail (weight: 0.005)\n",
      "\n",
      "Topic 1:\n",
      "  - max (weight: 0.025)\n",
      "  - use (weight: 0.013)\n",
      "  - get (weight: 0.010)\n",
      "  - one (weight: 0.009)\n",
      "  - would (weight: 0.009)\n",
      "  - like (weight: 0.008)\n",
      "  - drive (weight: 0.007)\n",
      "  - know (weight: 0.006)\n",
      "  - work (weight: 0.006)\n",
      "  - problem (weight: 0.006)\n",
      "\n",
      "Topic 2:\n",
      "  - would (weight: 0.011)\n",
      "  - peopl (weight: 0.011)\n",
      "  - one (weight: 0.010)\n",
      "  - think (weight: 0.007)\n",
      "  - say (weight: 0.007)\n",
      "  - know (weight: 0.006)\n",
      "  - like (weight: 0.006)\n",
      "  - right (weight: 0.005)\n",
      "  - make (weight: 0.005)\n",
      "  - time (weight: 0.005)\n",
      "\n",
      "Topic 3:\n",
      "  - year (weight: 0.010)\n",
      "  - presid (weight: 0.010)\n",
      "  - game (weight: 0.008)\n",
      "  - team (weight: 0.007)\n",
      "  - new (weight: 0.006)\n",
      "  - play (weight: 0.006)\n",
      "  - last (weight: 0.005)\n",
      "  - american (weight: 0.005)\n",
      "  - first (weight: 0.005)\n",
      "  - player (weight: 0.004)\n",
      "\n"
     ]
    }
   ],
   "source": [
    "print(\"Top Terms for Each Topic:\\n\")\n",
    "for idx, topic in lda_model.print_topics(num_topics=4, num_words=10):\n",
    "    print(f\"Topic {idx}:\")\n",
    "    for term in topic.split(\"+\"):\n",
    "        term = term.strip()\n",
    "        if \"*\" in term:\n",
    "            weight, word = term.split(\"*\")\n",
    "            print(f\"  - {word.strip().strip('\\\"')} (weight: {weight.strip()})\")\n",
    "    print()\n"
   ]
  },
  {
   "cell_type": "code",
   "execution_count": 75,
   "id": "0dbcc3cb-4356-4406-b97b-3fb38c345a63",
   "metadata": {},
   "outputs": [
    {
     "name": "stdout",
     "output_type": "stream",
     "text": [
      "                                                text  Dominant_Topic\n",
      "0  I was wondering if anyone out there could enli...               1\n",
      "1  I recently posted an article asking what kind ...               1\n",
      "2  \\nIt depends on your priorities.  A lot of peo...               1\n",
      "3  an excellent automatic can be found in the sub...               1\n",
      "4  : Ford and his automobile.  I need information...               1\n"
     ]
    }
   ],
   "source": [
    "# Step 7: Optional - Assign dominant topic to each article\n",
    "doc_topics = []\n",
    "for doc in corpus:\n",
    "    topics = lda_model.get_document_topics(doc)\n",
    "    dominant_topic = max(topics, key=lambda x: x[1])[0]\n",
    "    doc_topics.append(dominant_topic)\n",
    "\n",
    "df['Dominant_Topic'] = doc_topics\n",
    "print(df.head())\n"
   ]
  },
  {
   "cell_type": "code",
   "execution_count": 76,
   "id": "3a01b447-5c64-4fae-a591-73107ce06eff",
   "metadata": {},
   "outputs": [
    {
     "name": "stdout",
     "output_type": "stream",
     "text": [
      "\n",
      "--- Coherence Score Interpretation ---\n",
      "The coherence score is a measure of how interpretable the topics are.\n",
      "A higher score (close to 1.0) means the topics make more sense semantically.\n",
      "In this model, a coherence score around 0.499 suggests that the LDA model is producing fairly meaningful topics.\n"
     ]
    }
   ],
   "source": [
    "# Step 8: Interpretation\n",
    "print(\"\\n--- Coherence Score Interpretation ---\")\n",
    "print(\"The coherence score is a measure of how interpretable the topics are.\")\n",
    "print(\"A higher score (close to 1.0) means the topics make more sense semantically.\")\n",
    "print(\"In this model, a coherence score around\", round(coherence_score, 3),\n",
    "      \"suggests that the LDA model is producing fairly meaningful topics.\")"
   ]
  },
  {
   "cell_type": "code",
   "execution_count": null,
   "id": "9ae9262f-ed3b-4c7e-9635-9f42b1cdbd19",
   "metadata": {},
   "outputs": [],
   "source": []
  }
 ],
 "metadata": {
  "kernelspec": {
   "display_name": "Python [conda env:base] *",
   "language": "python",
   "name": "conda-base-py"
  },
  "language_info": {
   "codemirror_mode": {
    "name": "ipython",
    "version": 3
   },
   "file_extension": ".py",
   "mimetype": "text/x-python",
   "name": "python",
   "nbconvert_exporter": "python",
   "pygments_lexer": "ipython3",
   "version": "3.12.7"
  }
 },
 "nbformat": 4,
 "nbformat_minor": 5
}
