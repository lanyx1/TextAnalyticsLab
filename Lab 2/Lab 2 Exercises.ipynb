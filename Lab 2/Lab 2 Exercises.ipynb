{
 "cells": [
  {
   "cell_type": "code",
   "execution_count": 1,
   "id": "42af3f82-52e3-46ce-bfc8-82cc70fcf7bd",
   "metadata": {},
   "outputs": [
    {
     "name": "stdout",
     "output_type": "stream",
     "text": [
      "Digits found: ['2', '4', '5', '6', '7', '8', '9', '3', '4', '1', '2', '3', '0']\n"
     ]
    }
   ],
   "source": [
    "import re\n",
    "\n",
    "text = \"Order number: 24567, Tracking ID: 8934A12, Quantity: 30\"\n",
    "\n",
    "# Regular expression pattern to match all digits\n",
    "pattern = r\"\\d\"\n",
    "\n",
    "# Find all matches\n",
    "matches = re.findall(pattern, text)\n",
    "\n",
    "print(\"Digits found:\", matches)\n",
    "\n"
   ]
  },
  {
   "cell_type": "code",
   "execution_count": 2,
   "id": "1dd9079e-41a7-4129-8ca3-60633b9c613d",
   "metadata": {},
   "outputs": [
    {
     "name": "stdout",
     "output_type": "stream",
     "text": [
      "Non-alphanumeric characters: ['!', ' ', \"'\", ' ', ' ', ' ', '?', ' ', ' ', ' ', '@', ' ', '.']\n"
     ]
    }
   ],
   "source": [
    "import re\n",
    "\n",
    "text = \"Welcome! How's your day going? Call me @ 3pm.\"\n",
    "\n",
    "# Regular expression pattern to match all non-alphanumeric characters\n",
    "pattern = r\"\\W\"\n",
    "\n",
    "# Find all matches\n",
    "matches = re.findall(pattern, text)\n",
    "\n",
    "print(\"Non-alphanumeric characters:\", matches)\n"
   ]
  },
  {
   "cell_type": "code",
   "execution_count": 3,
   "id": "62899c47-7f8e-4ab3-92bc-4805e4a2083a",
   "metadata": {},
   "outputs": [
    {
     "name": "stdout",
     "output_type": "stream",
     "text": [
      "Split text: ['Data Science', ' AI', ' and Machine Learning', ' These fields are growing fast', '']\n"
     ]
    }
   ],
   "source": [
    "import re\n",
    "\n",
    "text = \"Data Science, AI, and Machine Learning. These fields are growing fast.\"\n",
    "\n",
    "# Regular expression pattern to split at commas and periods\n",
    "pattern = r\"[,\\.]\"\n",
    "\n",
    "# Split the text\n",
    "split_text = re.split(pattern, text)\n",
    "\n",
    "print(\"Split text:\", split_text)\n"
   ]
  },
  {
   "cell_type": "code",
   "execution_count": 4,
   "id": "0aa1fe59-ee4f-4aff-8043-49c1e26f39fd",
   "metadata": {},
   "outputs": [
    {
     "name": "stdout",
     "output_type": "stream",
     "text": [
      "Anonymized text: Contact us at [HIDDEN] or [HIDDEN]\n"
     ]
    }
   ],
   "source": [
    "import re\n",
    "\n",
    "text = \"Contact us at support@example.com or info@company.org\"\n",
    "\n",
    "# Regular expression pattern to match email addresses\n",
    "pattern = r\"\\S+@\\S+\"\n",
    "\n",
    "# Replace email addresses with [HIDDEN]\n",
    "new_text = re.sub(pattern, \"[HIDDEN]\", text)\n",
    "\n",
    "print(\"Anonymized text:\", new_text)\n"
   ]
  },
  {
   "cell_type": "code",
   "execution_count": 5,
   "id": "c8f2e423-53af-45c4-af59-a3e74f0d0e71",
   "metadata": {},
   "outputs": [
    {
     "name": "stdout",
     "output_type": "stream",
     "text": [
      "Domain types: ['com', 'edu', 'org']\n"
     ]
    }
   ],
   "source": [
    "import re\n",
    "\n",
    "text = \"Emails: user@gmail.com, admin@university.edu, info@company.org\"\n",
    "\n",
    "# Regular expression pattern to extract domain types\n",
    "pattern = r\"@[\\w.-]+\\.([a-z]+)\"\n",
    "\n",
    "# Find all matches\n",
    "matches = re.findall(pattern, text)\n",
    "\n",
    "print(\"Domain types:\", matches)\n"
   ]
  },
  {
   "cell_type": "code",
   "execution_count": null,
   "id": "d021eeac-1d89-4ec9-952d-06d5b42e1cea",
   "metadata": {},
   "outputs": [],
   "source": []
  }
 ],
 "metadata": {
  "kernelspec": {
   "display_name": "Python [conda env:base] *",
   "language": "python",
   "name": "conda-base-py"
  },
  "language_info": {
   "codemirror_mode": {
    "name": "ipython",
    "version": 3
   },
   "file_extension": ".py",
   "mimetype": "text/x-python",
   "name": "python",
   "nbconvert_exporter": "python",
   "pygments_lexer": "ipython3",
   "version": "3.12.7"
  }
 },
 "nbformat": 4,
 "nbformat_minor": 5
}
