{
 "cells": [
  {
   "cell_type": "code",
   "execution_count": 1,
   "id": "200ef10a-ebbd-4dea-9b2f-54141a6ccf0a",
   "metadata": {},
   "outputs": [
    {
     "name": "stdout",
     "output_type": "stream",
     "text": [
      "<re.Match object; span=(0, 1), match='I'>\n"
     ]
    }
   ],
   "source": [
    "import re\n",
    "\n",
    "sentence1 = re.match (r'I', \"I am learning text analytics\")\n",
    "print (sentence1)"
   ]
  },
  {
   "cell_type": "code",
   "execution_count": 2,
   "id": "4b7c6940-3d52-40c4-b9a4-d6c97b9423c2",
   "metadata": {},
   "outputs": [
    {
     "name": "stdout",
     "output_type": "stream",
     "text": [
      "None\n"
     ]
    }
   ],
   "source": [
    "sentence2 = re.match (r'v', 'I am learning text analytics')\n",
    "print (sentence2)"
   ]
  },
  {
   "cell_type": "code",
   "execution_count": 3,
   "id": "1d3bbac3-2947-4359-a9fe-e1d0762431eb",
   "metadata": {},
   "outputs": [
    {
     "name": "stdout",
     "output_type": "stream",
     "text": [
      "None\n"
     ]
    }
   ],
   "source": [
    "sentence3 = re.match(r'am', 'I am learning text analytics')\n",
    "print (sentence3)"
   ]
  },
  {
   "cell_type": "code",
   "execution_count": 4,
   "id": "abf15241-7f6f-4b1a-aa55-9a40ce6c776f",
   "metadata": {},
   "outputs": [
    {
     "name": "stdout",
     "output_type": "stream",
     "text": [
      "<re.Match object; span=(2, 4), match='am'>\n"
     ]
    }
   ],
   "source": [
    "sentence4 = re.search(r'am', 'I am learning text analytics')\n",
    "print (sentence4)"
   ]
  },
  {
   "cell_type": "code",
   "execution_count": 5,
   "id": "630896c4-df49-4a52-9095-f20602ad3069",
   "metadata": {},
   "outputs": [
    {
     "name": "stdout",
     "output_type": "stream",
     "text": [
      "<re.Match object; span=(2, 4), match='am'>\n"
     ]
    }
   ],
   "source": [
    "sentence5 = re.search(r'am', 'I am learning text analytics and am enjoying it')\n",
    "print(sentence5)"
   ]
  },
  {
   "cell_type": "code",
   "execution_count": 6,
   "id": "bc5a98fa-8281-4be3-ad4a-6cdff34b8e22",
   "metadata": {},
   "outputs": [
    {
     "name": "stdout",
     "output_type": "stream",
     "text": [
      "['am', 'am']\n"
     ]
    }
   ],
   "source": [
    "sentence6 = re.findall(r'am', 'I am leaning text analytics and am enjoying it')\n",
    "print (sentence6)"
   ]
  },
  {
   "cell_type": "code",
   "execution_count": 7,
   "id": "fd040a32-f5e3-4830-baeb-d50ccbd77496",
   "metadata": {},
   "outputs": [
    {
     "name": "stdout",
     "output_type": "stream",
     "text": [
      "['I am learning text analytics ', ' am enjoying it']\n"
     ]
    }
   ],
   "source": [
    "sentence7 = re.split(r'and', 'I am learning text analytics and am enjoying it')\n",
    "print (sentence7)"
   ]
  },
  {
   "cell_type": "code",
   "execution_count": 8,
   "id": "623e56dc-a51f-47a7-9aa0-4e87871375bd",
   "metadata": {},
   "outputs": [
    {
     "name": "stdout",
     "output_type": "stream",
     "text": [
      "['I ', ' learning text analytics and ', ' enjoying it']\n"
     ]
    }
   ],
   "source": [
    "sentence8 = re.split(r'am', 'I am learning text analytics and am enjoying it')\n",
    "print(sentence8)"
   ]
  },
  {
   "cell_type": "code",
   "execution_count": 9,
   "id": "c6e12d23-4714-4f23-ad0a-a8dd63f2b85d",
   "metadata": {},
   "outputs": [
    {
     "name": "stdout",
     "output_type": "stream",
     "text": [
      "['I ', ' learning text analytics and ', ' enjoying it']\n"
     ]
    }
   ],
   "source": [
    "sentence9 = re.split(r'am', 'I am learning text analytics and am enjoying it')\n",
    "print(sentence9)"
   ]
  },
  {
   "cell_type": "code",
   "execution_count": 10,
   "id": "2e67f297-df3d-4977-bbb0-c7905411245c",
   "metadata": {},
   "outputs": [
    {
     "name": "stdout",
     "output_type": "stream",
     "text": [
      "['I ', ' learning text analytics and ', ' enjoying it']\n"
     ]
    }
   ],
   "source": [
    "sentence9 = re.split(r'am', 'I am learning text analytics and am enjoying it', maxsplit = 2)\n",
    "print (sentence9)"
   ]
  },
  {
   "cell_type": "code",
   "execution_count": 11,
   "id": "d93d763a-0975-4718-a84f-0a33df7a9488",
   "metadata": {},
   "outputs": [
    {
     "name": "stdout",
     "output_type": "stream",
     "text": [
      "['I ', ' learning text analytics, I ', ' enjoying iy and I ', ' going to ace it']\n"
     ]
    }
   ],
   "source": [
    "sentence10 = re.split(r'am', 'I am learning text analytics, I am enjoying iy and I am going to ace it', maxsplit = 3)\n",
    "print (sentence10)"
   ]
  },
  {
   "cell_type": "code",
   "execution_count": 12,
   "id": "d95c3a6f-377d-4c41-b41b-ba41170a557f",
   "metadata": {},
   "outputs": [
    {
     "name": "stdout",
     "output_type": "stream",
     "text": [
      "we like text analytics and we enjoy learning it\n"
     ]
    }
   ],
   "source": [
    "sentence11 = re.sub(r'I', 'we','I like text analytics and I enjoy learning it')\n",
    "print(sentence11)"
   ]
  },
  {
   "cell_type": "code",
   "execution_count": 13,
   "id": "c6720650-b1b9-4655-96fe-4a169ec53532",
   "metadata": {},
   "outputs": [
    {
     "name": "stdout",
     "output_type": "stream",
     "text": [
      "['I', ' ', 'a', 'm', ' ', 'l', 'e', 'a', 'r', 'n', 'i', 'n', 'g', ' ', 't', 'e', 'x', 't', ' ', 'a', 'n', 'a', 'l', 'y', 't', 'i', 'c', 's']\n"
     ]
    }
   ],
   "source": [
    "sentence1 = re.findall(r'.', 'I am learning text analytics')\n",
    "print (sentence1)"
   ]
  },
  {
   "cell_type": "code",
   "execution_count": 14,
   "id": "4f47a4d9-c3ac-44b1-a873-24835c02af7e",
   "metadata": {},
   "outputs": [
    {
     "ename": "SyntaxError",
     "evalue": "unmatched ')' (3679257195.py, line 1)",
     "output_type": "error",
     "traceback": [
      "\u001b[1;36m  Cell \u001b[1;32mIn[14], line 1\u001b[1;36m\u001b[0m\n\u001b[1;33m    sentence2 = re.findall(r'\\w'), 'I am learning text analytics')\u001b[0m\n\u001b[1;37m                                                                 ^\u001b[0m\n\u001b[1;31mSyntaxError\u001b[0m\u001b[1;31m:\u001b[0m unmatched ')'\n"
     ]
    }
   ],
   "source": [
    "sentence2 = re.findall(r'\\w'), 'I am learning text analytics')\n",
    "print (sentence2)"
   ]
  },
  {
   "cell_type": "code",
   "execution_count": 15,
   "id": "5b0eee42-e4ca-43be-92e9-548e8551a9ef",
   "metadata": {},
   "outputs": [
    {
     "name": "stdout",
     "output_type": "stream",
     "text": [
      "['I', 'a', 'm', 'l', 'e', 'a', 'r', 'n', 'i', 'n', 'g', 't', 'e', 'x', 't', 'a', 'n', 'a', 'l', 'y', 't', 'i', 'c', 's']\n"
     ]
    }
   ],
   "source": [
    "sentence2 = re.findall(r'\\w', 'I am learning text analytics')\n",
    "print (sentence2)"
   ]
  },
  {
   "cell_type": "code",
   "execution_count": 16,
   "id": "c075c17e-d1b7-4735-9bde-734cee3bea2a",
   "metadata": {},
   "outputs": [
    {
     "ename": "NameError",
     "evalue": "name 'senteve3' is not defined",
     "output_type": "error",
     "traceback": [
      "\u001b[1;31m---------------------------------------------------------------------------\u001b[0m",
      "\u001b[1;31mNameError\u001b[0m                                 Traceback (most recent call last)",
      "Cell \u001b[1;32mIn[16], line 2\u001b[0m\n\u001b[0;32m      1\u001b[0m sentence3 \u001b[38;5;241m=\u001b[39m re\u001b[38;5;241m.\u001b[39mfindall (\u001b[38;5;124mr\u001b[39m\u001b[38;5;124m'\u001b[39m\u001b[38;5;124m\\\u001b[39m\u001b[38;5;124mw*\u001b[39m\u001b[38;5;124m'\u001b[39m, \u001b[38;5;124m'\u001b[39m\u001b[38;5;124mI am learning text analytics\u001b[39m\u001b[38;5;124m'\u001b[39m)  \n\u001b[1;32m----> 2\u001b[0m \u001b[38;5;28mprint\u001b[39m (senteve3)\n",
      "\u001b[1;31mNameError\u001b[0m: name 'senteve3' is not defined"
     ]
    }
   ],
   "source": [
    "sentence3 = re.findall (r'\\w*', 'I am learning text analytics')  \n",
    "print (senteve3)"
   ]
  },
  {
   "cell_type": "code",
   "execution_count": 17,
   "id": "dc5dcde5-5d16-46dd-9487-6e75fef305a0",
   "metadata": {},
   "outputs": [
    {
     "name": "stdout",
     "output_type": "stream",
     "text": [
      "['I', '', 'am', '', 'learning', '', 'text', '', 'analytics', '']\n"
     ]
    }
   ],
   "source": [
    "sentence3 = re.findall (r'\\w*', 'I am learning text analytics')  \n",
    "print (sentence3)"
   ]
  },
  {
   "cell_type": "code",
   "execution_count": 18,
   "id": "75fad945-b178-46c3-a9af-81d4a876fddb",
   "metadata": {},
   "outputs": [
    {
     "ename": "SyntaxError",
     "evalue": "invalid syntax (2719003055.py, line 1)",
     "output_type": "error",
     "traceback": [
      "\u001b[1;36m  Cell \u001b[1;32mIn[18], line 1\u001b[1;36m\u001b[0m\n\u001b[1;33m    sentence4 = re.findall (r'\\w+', 'I am learning text analytics')  print (sentence4)\u001b[0m\n\u001b[1;37m                                                                     ^\u001b[0m\n\u001b[1;31mSyntaxError\u001b[0m\u001b[1;31m:\u001b[0m invalid syntax\n"
     ]
    }
   ],
   "source": [
    "sentence4 = re.findall (r'\\w+', 'I am learning text analytics')  print (sentence4)"
   ]
  },
  {
   "cell_type": "code",
   "execution_count": 19,
   "id": "6ad8b8b4-d6c1-46fc-af9a-3de6a89d270d",
   "metadata": {},
   "outputs": [
    {
     "name": "stdout",
     "output_type": "stream",
     "text": [
      "['I', 'am', 'learning', 'text', 'analytics']\n"
     ]
    }
   ],
   "source": [
    "sentence4 = re.findall (r'\\w+', 'I am learning text analytics')  \n",
    "print (sentence4)"
   ]
  },
  {
   "cell_type": "code",
   "execution_count": null,
   "id": "a6c3ba23-516d-49d8-b5f5-d0ed130cd602",
   "metadata": {},
   "outputs": [],
   "source": []
  },
  {
   "cell_type": "code",
   "execution_count": 20,
   "id": "55d1421d-25ed-4408-a4c5-d7ed24cd552d",
   "metadata": {},
   "outputs": [
    {
     "name": "stdout",
     "output_type": "stream",
     "text": [
      "['I']\n"
     ]
    }
   ],
   "source": [
    "sentence5 = re.findall (r'^\\w+', 'I am learning text analytics')  \n",
    "print (sentence5) "
   ]
  },
  {
   "cell_type": "code",
   "execution_count": 21,
   "id": "1eb03a39-4f41-42df-8e10-ae7463e007c5",
   "metadata": {},
   "outputs": [
    {
     "name": "stdout",
     "output_type": "stream",
     "text": [
      "['analytics']\n"
     ]
    }
   ],
   "source": [
    "sentence6 = re.findall (r'\\w+$', 'I am learning text analytics')  \n",
    "print (sentence6) "
   ]
  },
  {
   "cell_type": "code",
   "execution_count": null,
   "id": "cf57b4bd-777f-4c1f-993c-4c26e23ebed2",
   "metadata": {},
   "outputs": [],
   "source": []
  },
  {
   "cell_type": "code",
   "execution_count": 22,
   "id": "04d53e48-b10f-4b54-8e78-10904a4749ea",
   "metadata": {},
   "outputs": [
    {
     "name": "stdout",
     "output_type": "stream",
     "text": [
      "['am', 'le', 'ar', 'ni', 'ng', 'te', 'xt', 'an', 'al', 'yt', 'ic']\n"
     ]
    }
   ],
   "source": [
    "sentence7 = re.findall (r'\\w\\w', 'I am learning text analytics')  \n",
    "print (sentence7)"
   ]
  },
  {
   "cell_type": "code",
   "execution_count": 23,
   "id": "1cb9c301-bc48-41da-aff3-aed54feb4bcb",
   "metadata": {},
   "outputs": [
    {
     "name": "stdout",
     "output_type": "stream",
     "text": [
      "['am', 'le', 'te', 'an']\n"
     ]
    }
   ],
   "source": [
    "sentence8 = re.findall (r'\\b\\w\\w', 'I am learning text analytics')  \n",
    "print (sentence8)"
   ]
  },
  {
   "cell_type": "code",
   "execution_count": null,
   "id": "17a1f43a-bafb-4d6f-a5c6-5d976dbdee7c",
   "metadata": {},
   "outputs": [],
   "source": []
  },
  {
   "cell_type": "code",
   "execution_count": 24,
   "id": "f26310b3-c7e4-4b62-b9a6-59da53effc0a",
   "metadata": {},
   "outputs": [
    {
     "name": "stdout",
     "output_type": "stream",
     "text": [
      "['@text', '@analytics', '@textanalytics']\n"
     ]
    }
   ],
   "source": [
    "sentence9 = re.findall (r'@\\w+', 'user@text.com.my, user@analytics.gov.my, user@textanalytics.edu.my') \n",
    "print (sentence9) "
   ]
  },
  {
   "cell_type": "code",
   "execution_count": 25,
   "id": "c694ade6-e1d6-4d57-9f4b-6bffb63f92c0",
   "metadata": {},
   "outputs": [
    {
     "name": "stdout",
     "output_type": "stream",
     "text": [
      "['@text.com', '@analytics.gov', '@textanalytics.edu']\n"
     ]
    }
   ],
   "source": [
    "sentence10 = re.findall (r'@\\w+.\\w+','user@text.com.my, user@analytics.gov.my, user@textanalytics.edu.my') \n",
    "print (sentence10) "
   ]
  },
  {
   "cell_type": "code",
   "execution_count": null,
   "id": "4bf8658c-477f-4f79-99a6-0d9b1eac245a",
   "metadata": {},
   "outputs": [],
   "source": []
  },
  {
   "cell_type": "code",
   "execution_count": 26,
   "id": "2c06b72c-296a-45f7-9197-fd3712e8f19c",
   "metadata": {},
   "outputs": [
    {
     "name": "stdout",
     "output_type": "stream",
     "text": [
      "['@text.com.my', '@analytics.gov.my', '@textanalytics.edu.my']\n"
     ]
    }
   ],
   "source": [
    "sentence11 = re.findall (r'@\\w+.\\w+.\\w+', 'user@text.com.my, user@analytics.gov.my, user@textanalytics.edu.my') \n",
    "print (sentence11) "
   ]
  },
  {
   "cell_type": "code",
   "execution_count": null,
   "id": "946adc21-006a-4ca2-9408-b183f6cf6b7d",
   "metadata": {},
   "outputs": [],
   "source": []
  },
  {
   "cell_type": "code",
   "execution_count": 27,
   "id": "c8c25697-a7af-4b79-8a66-1448338782fa",
   "metadata": {},
   "outputs": [
    {
     "name": "stdout",
     "output_type": "stream",
     "text": [
      "['com.my', 'gov.my']\n"
     ]
    }
   ],
   "source": [
    "sentence12 = re.findall (r'@\\w+.(\\w+.\\w+)', 'user@text.com.my, user@analytics.gov.my, u')\n",
    "print (sentence12) "
   ]
  },
  {
   "cell_type": "code",
   "execution_count": 28,
   "id": "ed95572a-a045-40db-9bd4-43ec5dafa1e3",
   "metadata": {},
   "outputs": [
    {
     "name": "stdout",
     "output_type": "stream",
     "text": [
      "['com.my', 'gov.my', 'edu.my']\n"
     ]
    }
   ],
   "source": [
    "sentence12 = re.findall (r'@\\w+.(\\w+.\\w+)', 'user@text.com.my, user@analytics.gov.my, user@textanalytics.edu.my')\n",
    "print (sentence12) "
   ]
  },
  {
   "cell_type": "code",
   "execution_count": 29,
   "id": "44c8db11-c098-4306-9b9c-2d4618451d59",
   "metadata": {},
   "outputs": [
    {
     "name": "stdout",
     "output_type": "stream",
     "text": [
      "['15-05-20', '20-08-20']\n"
     ]
    }
   ],
   "source": [
    "sentence13 = re.findall (r'\\d{2}-\\d{2}-\\d{2}', 'Ahmad BIT(IS) 15-05-2001, Johnny BCS(SE) 20-08-2000') \n",
    "print (sentence13)"
   ]
  },
  {
   "cell_type": "code",
   "execution_count": null,
   "id": "980d7451-430b-43b3-a5ae-3ba09df67d07",
   "metadata": {},
   "outputs": [],
   "source": []
  },
  {
   "cell_type": "code",
   "execution_count": 30,
   "id": "6c9bd6bf-2355-4cfb-83a8-5d0182de5902",
   "metadata": {},
   "outputs": [
    {
     "name": "stdout",
     "output_type": "stream",
     "text": [
      "['15-05-2001', '20-08-2000']\n"
     ]
    }
   ],
   "source": [
    "sentence14 = re.findall (r'\\d{2}-\\d{2}-\\d{4}', 'Ahmad BIT(IS) 15-05-2001, Johnny BCS(SE) 20-08-2000') \n",
    "print (sentence14)"
   ]
  },
  {
   "cell_type": "code",
   "execution_count": 31,
   "id": "c31038ad-16f2-4db2-b2c1-1f42dbfc09be",
   "metadata": {},
   "outputs": [
    {
     "name": "stdout",
     "output_type": "stream",
     "text": [
      "['2001', '2000']\n"
     ]
    }
   ],
   "source": [
    "sentence15 = re.findall (r'\\d{2}-\\d{2}-(\\d{4})', 'Ahmad BIT(IS) 15-05-2001, Johnny BCS(SE) 20-08-2000') \n",
    "print (sentence15)"
   ]
  },
  {
   "cell_type": "code",
   "execution_count": 32,
   "id": "1e021db7-f44c-4b76-88da-68138e5c9544",
   "metadata": {},
   "outputs": [
    {
     "name": "stdout",
     "output_type": "stream",
     "text": [
      "['ave', 'eight', 'ory', 'ooks', 'often', 'ead', 'em', 'in', 'afternoon']\n"
     ]
    }
   ],
   "source": [
    "sentence16 = re.findall (r'[aeiouAEIOU]\\w+', 'I have eight story books. I often read them in afternoon') \n",
    "print (sentence16)"
   ]
  },
  {
   "cell_type": "code",
   "execution_count": 33,
   "id": "2a7be4cc-185c-4947-b353-6d45985db9bb",
   "metadata": {},
   "outputs": [
    {
     "name": "stdout",
     "output_type": "stream",
     "text": [
      "['eight', 'often', 'in', 'afternoon']\n"
     ]
    }
   ],
   "source": [
    "sentence17 = re.findall (r'\\b[aeiouAEIOU]\\w+', 'I have eight story books. I often read them in afternoon') \n",
    "print (sentence17)"
   ]
  },
  {
   "cell_type": "code",
   "execution_count": 34,
   "id": "41d9c9b4-2db7-4ecc-85c2-4e3b74cb9685",
   "metadata": {},
   "outputs": [
    {
     "name": "stdout",
     "output_type": "stream",
     "text": [
      "['have', 'story', 'books', 'read', 'them']\n"
     ]
    }
   ],
   "source": [
    "sentence18 = re.findall (r'\\b[^aeiouAEIOU\\s]\\w+', 'I have eight story books. I often read them in afternoon') \n",
    "print (sentence18)"
   ]
  },
  {
   "cell_type": "code",
   "execution_count": 35,
   "id": "60323dab-d710-4e05-adea-6213e1e66e47",
   "metadata": {},
   "outputs": [
    {
     "name": "stdout",
     "output_type": "stream",
     "text": [
      "['have', 'story', 'books', 'read', 'them', 'the']\n"
     ]
    }
   ],
   "source": [
    "sentence18 = re.findall (r'\\b[^aeiouAEIOU\\s]\\w+', 'I have eight story books. I often read them in the afternoon') \n",
    "print (sentence18)"
   ]
  },
  {
   "cell_type": "code",
   "execution_count": 36,
   "id": "d5743e20-2c50-441e-aab8-b2c7ca2cafa5",
   "metadata": {},
   "outputs": [
    {
     "name": "stdout",
     "output_type": "stream",
     "text": [
      "['I have many story books', ' colouring books', ' I often read them in the afternoon.']\n"
     ]
    }
   ],
   "source": [
    "sentence19 = re.split (r'[;,]', 'I have many story books, colouring books; I often read them in the afternoon.') \n",
    "print (sentence19)"
   ]
  },
  {
   "cell_type": "code",
   "execution_count": 37,
   "id": "d003ad6a-afd4-43e8-8cfe-e1bea947a52f",
   "metadata": {},
   "outputs": [
    {
     "name": "stdout",
     "output_type": "stream",
     "text": [
      "['I', 'have', 'many', 'story', 'books', '', 'colouring', 'books', '', 'I', 'often', 'read', 'them', 'in', 'the', 'afternoon.']\n"
     ]
    }
   ],
   "source": [
    "sentence20 = re.split (r'[;,\\s]', 'I have many story books, colouring books; I often read them in the afternoon.') \n",
    "print (sentence20)"
   ]
  },
  {
   "cell_type": "code",
   "execution_count": 38,
   "id": "405e9f03-f101-41c5-94d9-db3e7daf36a3",
   "metadata": {},
   "outputs": [
    {
     "ename": "SyntaxError",
     "evalue": "invalid syntax (4077493150.py, line 1)",
     "output_type": "error",
     "traceback": [
      "\u001b[1;36m  Cell \u001b[1;32mIn[38], line 1\u001b[1;36m\u001b[0m\n\u001b[1;33m    sentence21 = re.sub (r'[;,]', '.', 'I have many story books, colouring books; I often read them in the afternoon.') print (sentence21)\u001b[0m\n\u001b[1;37m                                                                                                                        ^\u001b[0m\n\u001b[1;31mSyntaxError\u001b[0m\u001b[1;31m:\u001b[0m invalid syntax\n"
     ]
    }
   ],
   "source": [
    "sentence21 = re.sub (r'[;,]', '.', 'I have many story books, colouring books; I often read them in the afternoon.') print (sentence21)"
   ]
  },
  {
   "cell_type": "code",
   "execution_count": 39,
   "id": "4977e978-62de-47f1-a9e8-e93646b0ccd4",
   "metadata": {},
   "outputs": [
    {
     "name": "stdout",
     "output_type": "stream",
     "text": [
      "I have many story books. colouring books. I often read them in the afternoon.\n"
     ]
    }
   ],
   "source": [
    "sentence21 = re.sub (r'[;,]', '.', 'I have many story books, colouring books; I often read them in the afternoon.') \n",
    "print (sentence21)"
   ]
  },
  {
   "cell_type": "code",
   "execution_count": null,
   "id": "863625f2-e28d-4474-b6a7-4eb6847c5534",
   "metadata": {},
   "outputs": [],
   "source": []
  }
 ],
 "metadata": {
  "kernelspec": {
   "display_name": "Python [conda env:base] *",
   "language": "python",
   "name": "conda-base-py"
  },
  "language_info": {
   "codemirror_mode": {
    "name": "ipython",
    "version": 3
   },
   "file_extension": ".py",
   "mimetype": "text/x-python",
   "name": "python",
   "nbconvert_exporter": "python",
   "pygments_lexer": "ipython3",
   "version": "3.12.7"
  }
 },
 "nbformat": 4,
 "nbformat_minor": 5
}
