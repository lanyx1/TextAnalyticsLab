{
 "cells": [
  {
   "cell_type": "code",
   "execution_count": 1,
   "id": "9c8c65ab-3e04-4f96-9d87-a9c29bfdb74d",
   "metadata": {},
   "outputs": [
    {
     "name": "stdout",
     "output_type": "stream",
     "text": [
      "Text extraction completed!\n"
     ]
    }
   ],
   "source": [
    "import PyPDF2\n",
    "\n",
    "\n",
    "with open(\"Business_Proposal.pdf\", \"rb\") as file:\n",
    "    reader = PyPDF2.PdfReader(file)\n",
    "\n",
    "    all_text = \"\\n\".join(page.extract_text() for page in reader.pages if page.extract_text())\n",
    "\n",
    "    page_2_text = reader.pages[1].extract_text() if len(reader.pages) > 1 else \"\"\n",
    "\n",
    "with open(\"business_proposal_all.txt\", \"w\", encoding=\"utf-8\") as all_file:\n",
    "    all_file.write(all_text)\n",
    "\n",
    "with open(\"business_proposal_page_2.txt\", \"w\", encoding=\"utf-8\") as page_2_file:\n",
    "    page_2_file.write(page_2_text)\n",
    "\n",
    "print(\"Text extraction completed!\")\n"
   ]
  },
  {
   "cell_type": "code",
   "execution_count": null,
   "id": "e12af1b4-e165-4d51-a235-f4cd1730e835",
   "metadata": {},
   "outputs": [],
   "source": []
  }
 ],
 "metadata": {
  "kernelspec": {
   "display_name": "Python [conda env:base] *",
   "language": "python",
   "name": "conda-base-py"
  },
  "language_info": {
   "codemirror_mode": {
    "name": "ipython",
    "version": 3
   },
   "file_extension": ".py",
   "mimetype": "text/x-python",
   "name": "python",
   "nbconvert_exporter": "python",
   "pygments_lexer": "ipython3",
   "version": "3.12.7"
  }
 },
 "nbformat": 4,
 "nbformat_minor": 5
}
